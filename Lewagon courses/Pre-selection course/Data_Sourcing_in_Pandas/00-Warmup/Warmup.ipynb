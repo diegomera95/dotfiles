{
 "cells": [
  {
   "cell_type": "markdown",
   "metadata": {},
   "source": [
    "# Warm-Up\n",
    "\n",
    "Start by running the usual Library Import cell:"
   ]
  },
  {
   "cell_type": "code",
   "execution_count": 1,
   "metadata": {},
   "outputs": [],
   "source": [
    "import matplotlib\n",
    "%matplotlib inline\n",
    "import numpy as np\n",
    "import pandas as pd"
   ]
  },
  {
   "cell_type": "markdown",
   "metadata": {},
   "source": [
    "## Load URLs from CSV\n",
    "\n",
    "If you paid attention to the files in your repo, you might have noticed a `urls.csv` in the project. Open it in VS Code, review the URLs and maybe add a few of your choice.\n",
    "\n",
    "Then load this CSV in a `urls_df` dataframe using Pandas:"
   ]
  },
  {
   "cell_type": "code",
   "execution_count": 2,
   "metadata": {
    "tags": [
     "challengify"
    ]
   },
   "outputs": [
    {
     "data": {
      "text/html": [
       "<div>\n",
       "<style scoped>\n",
       "    .dataframe tbody tr th:only-of-type {\n",
       "        vertical-align: middle;\n",
       "    }\n",
       "\n",
       "    .dataframe tbody tr th {\n",
       "        vertical-align: top;\n",
       "    }\n",
       "\n",
       "    .dataframe thead th {\n",
       "        text-align: right;\n",
       "    }\n",
       "</style>\n",
       "<table border=\"1\" class=\"dataframe\">\n",
       "  <thead>\n",
       "    <tr style=\"text-align: right;\">\n",
       "      <th></th>\n",
       "      <th>url</th>\n",
       "    </tr>\n",
       "  </thead>\n",
       "  <tbody>\n",
       "    <tr>\n",
       "      <th>0</th>\n",
       "      <td>https://www.github.com</td>\n",
       "    </tr>\n",
       "    <tr>\n",
       "      <th>1</th>\n",
       "      <td>https://stackoverflow.com/questions/tagged/python</td>\n",
       "    </tr>\n",
       "  </tbody>\n",
       "</table>\n",
       "</div>"
      ],
      "text/plain": [
       "                                                 url\n",
       "0                             https://www.github.com\n",
       "1  https://stackoverflow.com/questions/tagged/python"
      ]
     },
     "execution_count": 2,
     "metadata": {},
     "output_type": "execute_result"
    }
   ],
   "source": [
    "url = 'urls.csv'\n",
    "urls_df = pd.read_csv(url)\n",
    "urls_df"
   ]
  },
  {
   "cell_type": "markdown",
   "metadata": {},
   "source": [
    "## Enrich Dataset with an API\n",
    "\n",
    "Let's use the `fetch_metadata` function that we just implemented in the `opengraph.py` file.\n",
    "\n",
    "First let's import it and make sure that it works in the Notebook. \n",
    "\n",
    "1. Write the relevant `from ... import ...` line\n",
    "1. Call the `fetch_metadata` on a URL of your choice. You can write `fetch_` then `<TAB>` to autocomplete, then `<SHIFT> + <TAB>` to view the Docstring from your Python file!"
   ]
  },
  {
   "cell_type": "code",
   "execution_count": 3,
   "metadata": {
    "tags": [
     "challengify"
    ]
   },
   "outputs": [],
   "source": [
    "from opengraph import fetch_metadata"
   ]
  },
  {
   "cell_type": "code",
   "execution_count": 4,
   "metadata": {},
   "outputs": [
    {
     "data": {
      "text/plain": [
       "{'locale': 'es_ES',\n",
       " 'site_name': 'Hamuq Agency |',\n",
       " 'type': 'website',\n",
       " 'title': 'Hamuq Agency | Agencia digital | Diseño corporativo',\n",
       " 'description': 'Agencia digital en Lima especializada en gestión de redes sociales, branding e imagen corporativa, diseño, logotipos ¡Impulsa tu marca ahora!',\n",
       " 'url': 'https://hamuqagency.com/',\n",
       " 'image': 'https://hamuqagency.com/wp-content/uploads/2023/06/hamuq-perfil.jpeg',\n",
       " 'image:secure_url': 'https://hamuqagency.com/wp-content/uploads/2023/06/hamuq-perfil.jpeg',\n",
       " 'image:width': '1600',\n",
       " 'image:height': '1600'}"
      ]
     },
     "execution_count": 4,
     "metadata": {},
     "output_type": "execute_result"
    }
   ],
   "source": [
    "fetch_metadata('https://hamuqagency.com/')"
   ]
  },
  {
   "cell_type": "markdown",
   "metadata": {},
   "source": [
    "Iterate over the `urls_df` dataframe to add `title` and `description` columns for each URL\n",
    "\n",
    "<details>\n",
    "  <summary>🆘 Hint</summary>\n",
    "\n",
    "  <p>Have a look at today's Lecture, you can start by copy/pasting what we did for <code>tracks_df</code> and adapt the code</p>\n",
    "\n",
    "</details>"
   ]
  },
  {
   "cell_type": "code",
   "execution_count": 5,
   "metadata": {},
   "outputs": [
    {
     "data": {
      "text/plain": [
       "['https://stackoverflow.com/questions/tagged/python', 'https://www.github.com']"
      ]
     },
     "execution_count": 5,
     "metadata": {},
     "output_type": "execute_result"
    }
   ],
   "source": [
    "url_list = list(set(urls_df['url'].to_list()))\n",
    "url_list"
   ]
  },
  {
   "cell_type": "code",
   "execution_count": 6,
   "metadata": {},
   "outputs": [],
   "source": [
    "titles = []\n",
    "for url in url_list:\n",
    "    meta_tags = fetch_metadata(url)\n",
    "    title = meta_tags['title']\n",
    "    titles.append(title)"
   ]
  },
  {
   "cell_type": "code",
   "execution_count": 7,
   "metadata": {},
   "outputs": [],
   "source": [
    "descriptions = []\n",
    "for url in url_list:\n",
    "    meta_tags = fetch_metadata(url)\n",
    "    description = meta_tags['description']\n",
    "    descriptions.append(description)"
   ]
  },
  {
   "cell_type": "code",
   "execution_count": 8,
   "metadata": {},
   "outputs": [],
   "source": [
    "warmup =pd.DataFrame({'url':url_list,'title': titles,\n",
    "                            'description': descriptions})"
   ]
  },
  {
   "cell_type": "code",
   "execution_count": 9,
   "metadata": {},
   "outputs": [],
   "source": [
    "urls_df = warmup"
   ]
  },
  {
   "cell_type": "code",
   "execution_count": 10,
   "metadata": {},
   "outputs": [
    {
     "data": {
      "text/html": [
       "<div>\n",
       "<style scoped>\n",
       "    .dataframe tbody tr th:only-of-type {\n",
       "        vertical-align: middle;\n",
       "    }\n",
       "\n",
       "    .dataframe tbody tr th {\n",
       "        vertical-align: top;\n",
       "    }\n",
       "\n",
       "    .dataframe thead th {\n",
       "        text-align: right;\n",
       "    }\n",
       "</style>\n",
       "<table border=\"1\" class=\"dataframe\">\n",
       "  <thead>\n",
       "    <tr style=\"text-align: right;\">\n",
       "      <th></th>\n",
       "      <th>url</th>\n",
       "      <th>title</th>\n",
       "      <th>description</th>\n",
       "    </tr>\n",
       "  </thead>\n",
       "  <tbody>\n",
       "    <tr>\n",
       "      <th>0</th>\n",
       "      <td>https://stackoverflow.com/questions/tagged/python</td>\n",
       "      <td>Newest 'python' Questions</td>\n",
       "      <td>Stack Overflow | The World’s Largest Online Co...</td>\n",
       "    </tr>\n",
       "    <tr>\n",
       "      <th>1</th>\n",
       "      <td>https://www.github.com</td>\n",
       "      <td>GitHub: Let’s build from here</td>\n",
       "      <td>GitHub is where over 100 million developers sh...</td>\n",
       "    </tr>\n",
       "  </tbody>\n",
       "</table>\n",
       "</div>"
      ],
      "text/plain": [
       "                                                 url  \\\n",
       "0  https://stackoverflow.com/questions/tagged/python   \n",
       "1                             https://www.github.com   \n",
       "\n",
       "                           title  \\\n",
       "0      Newest 'python' Questions   \n",
       "1  GitHub: Let’s build from here   \n",
       "\n",
       "                                         description  \n",
       "0  Stack Overflow | The World’s Largest Online Co...  \n",
       "1  GitHub is where over 100 million developers sh...  "
      ]
     },
     "execution_count": 10,
     "metadata": {},
     "output_type": "execute_result"
    }
   ],
   "source": [
    "warmup"
   ]
  },
  {
   "cell_type": "markdown",
   "metadata": {},
   "source": [
    "## Check your code!\n",
    "\n",
    "Run the cell below to check your code:"
   ]
  },
  {
   "cell_type": "markdown",
   "metadata": {},
   "source": []
  },
  {
   "cell_type": "code",
   "execution_count": 11,
   "metadata": {},
   "outputs": [
    {
     "name": "stdout",
     "output_type": "stream",
     "text": [
      "\n",
      "\u001b[1m============================= test session starts ==============================\u001b[0m\n",
      "platform linux -- Python 3.12.2, pytest-8.1.1, pluggy-1.4.0 -- /home/diegomera/.pyenv/versions/lewagon/bin/python3\n",
      "cachedir: .pytest_cache\n",
      "rootdir: /home/diegomera/code/diegomera95/dotfiles/Lewagon courses/Pre-selection course/Data_Sourcing_in_Pandas/00-Warmup/tests\n",
      "plugins: anyio-4.3.0\n",
      "\u001b[1mcollecting ... \u001b[0mcollected 1 item\n",
      "\n",
      "test_warmup.py::TestWarmup::test_dataframe_has_new_columns \u001b[32mPASSED\u001b[0m\u001b[32m        [100%]\u001b[0m\n",
      "\n",
      "\u001b[33m=============================== warnings summary ===============================\u001b[0m\n",
      "test_warmup.py::TestWarmup::test_dataframe_has_new_columns\n",
      "  /home/diegomera/.pyenv/versions/lewagon/lib/python3.12/site-packages/pytz/tzinfo.py:27: DeprecationWarning: datetime.datetime.utcfromtimestamp() is deprecated and scheduled for removal in a future version. Use timezone-aware objects to represent datetimes in UTC: datetime.datetime.fromtimestamp(timestamp, datetime.UTC).\n",
      "    _epoch = datetime.utcfromtimestamp(0)\n",
      "\n",
      "-- Docs: https://docs.pytest.org/en/stable/how-to/capture-warnings.html\n",
      "\u001b[33m========================= \u001b[32m1 passed\u001b[0m, \u001b[33m\u001b[1m1 warning\u001b[0m\u001b[33m in 0.32s\u001b[0m\u001b[33m =========================\u001b[0m\n",
      "\n",
      "\n",
      "💯 You can commit your code:\n",
      "\n",
      "\u001b[1;32mgit\u001b[39m add tests/warmup.pickle\n",
      "\n",
      "\u001b[32mgit\u001b[39m commit -m \u001b[33m'Completed warmup step'\u001b[39m\n",
      "\n",
      "\u001b[32mgit\u001b[39m push origin master\n",
      "\n"
     ]
    }
   ],
   "source": [
    "from nbresult import ChallengeResult\n",
    "\n",
    "result = ChallengeResult('warmup',\n",
    "    df_columns=urls_df.columns,\n",
    ")\n",
    "result.write()\n",
    "print(result.check())"
   ]
  },
  {
   "cell_type": "markdown",
   "metadata": {},
   "source": [
    "## (Optional) Autoreload\n",
    "\n",
    "Today's Lecture introduced you to the usefulness of [`autoreload`](https://ipython.readthedocs.io/en/stable/config/extensions/autoreload.html) in the notebook, let's experiment with it!\n",
    "\n",
    "Run the following cell, it should return `True` if your method returns `None` when a website is not found."
   ]
  },
  {
   "cell_type": "code",
   "execution_count": 15,
   "metadata": {},
   "outputs": [
    {
     "name": "stdout",
     "output_type": "stream",
     "text": [
      "The autoreload extension is already loaded. To reload it, use:\n",
      "  %reload_ext autoreload\n"
     ]
    },
    {
     "data": {
      "text/plain": [
       "False"
      ]
     },
     "execution_count": 15,
     "metadata": {},
     "output_type": "execute_result"
    }
   ],
   "source": [
    "%load_ext autoreload\n",
    "%autoreload 2\n",
    "fetch_metadata(\"https://www.a.com\") == None"
   ]
  },
  {
   "cell_type": "markdown",
   "metadata": {},
   "source": [
    "Open VS Code and change the behavior of the function, to make it return an empty string `\"\"` rather than `None` if the HTTP response is something else than `200`. Save your file on the drive, and re-run the cell above.\n",
    "\n",
    "Do you see something changing? No? That's normal! The first version of the `fetch_metadata` code is stored in the Notebook Kernel.\n",
    "\n",
    "---\n",
    "\n",
    "OK, let's change back the `fetch_metadata` code in VS Code back to `None`.\n",
    "\n",
    "Then, add the following two lines to your first Notebook code cell:\n",
    "\n",
    "```python\n",
    "%load_ext autoreload\n",
    "%autoreload 2\n",
    "```\n",
    "\n",
    "Then in the menu bar, go to `Kernel` > `Restart & Run all`.\n",
    "\n",
    "---\n",
    "\n",
    "Now that autoreload is enabled, go to VS Code, and once again change the behavior so that it returns an empty string. Re-run the code cell above. Do you get `False`? Good! That means that the Notebook is now monitoring changes to the files imported, like `opengraph.py`, and will reload them if the code within them changes!\n",
    "\n",
    "### Conclusion\n",
    "\n",
    "You might find this confusing, jumping through Notebook and VS Code, don't worry you will get used to it. The Notebook is a perfect tool to experiment, to keep notes, to get graphical output of the data, etc. Still, the end goal of a Data Team is to **ship** something (a product, an API, a model, etc.), so productizing the code and refactoring it _out_ of the Notebook into proper Python modules is a critical skill that you will learn!"
   ]
  }
 ],
 "metadata": {
  "kernelspec": {
   "display_name": "Python 3",
   "language": "python",
   "name": "python3"
  },
  "language_info": {
   "codemirror_mode": {
    "name": "ipython",
    "version": 3
   },
   "file_extension": ".py",
   "mimetype": "text/x-python",
   "name": "python",
   "nbconvert_exporter": "python",
   "pygments_lexer": "ipython3",
   "version": "3.12.2"
  }
 },
 "nbformat": 4,
 "nbformat_minor": 4
}
